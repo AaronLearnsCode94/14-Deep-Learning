{
 "cells": [
  {
   "cell_type": "markdown",
   "metadata": {},
   "source": [
    "# LSTM Stock Predictor Using Closing Prices\n",
    "\n",
    "In this notebook, you will build and train a custom LSTM RNN that uses a 10 day window of Bitcoin closing prices to predict the 11th day closing price. \n",
    "\n",
    "You will need to:\n",
    "\n",
    "1. Prepare the data for training and testing\n",
    "2. Build and train a custom LSTM RNN\n",
    "3. Evaluate the performance of the model"
   ]
  },
  {
   "cell_type": "markdown",
   "metadata": {},
   "source": [
    "## Data Preparation"
   ]
  },
  {
   "cell_type": "markdown",
   "metadata": {},
   "source": [
    "In this section, you will need to prepare the training and testing data for the model. The model will use a rolling 10 day window to predict the 11th day closing price.\n",
    "\n",
    "You will need to:\n",
    "1. Use the `window_data` function to generate the X and y values for the model.\n",
    "2. Split the data into 70% training and 30% testing\n",
    "3. Apply the MinMaxScaler to the X and y values\n",
    "4. Reshape the X_train and X_test data for the model. Note: The required input format for the LSTM is:\n",
    "\n",
    "```python\n",
    "reshape((X_train.shape[0], X_train.shape[1], 1))\n",
    "```"
   ]
  },
  {
   "cell_type": "code",
   "execution_count": 28,
   "metadata": {},
   "outputs": [
    {
     "name": "stdout",
     "output_type": "stream",
     "text": [
      "Requirement already satisfied: hvplot in c:\\users\\aaron simpson\\anaconda3\\lib\\site-packages (0.7.3)\n",
      "Requirement already satisfied: holoviews>=1.11.0 in c:\\users\\aaron simpson\\anaconda3\\lib\\site-packages (from hvplot) (1.14.8)\n",
      "Requirement already satisfied: bokeh>=1.0.0 in c:\\users\\aaron simpson\\anaconda3\\lib\\site-packages (from hvplot) (2.4.2)\n",
      "Requirement already satisfied: pandas in c:\\users\\aaron simpson\\anaconda3\\lib\\site-packages (from hvplot) (1.4.1)\n",
      "Requirement already satisfied: colorcet>=2 in c:\\users\\aaron simpson\\anaconda3\\lib\\site-packages (from hvplot) (3.0.0)\n",
      "Requirement already satisfied: numpy>=1.15 in c:\\users\\aaron simpson\\anaconda3\\lib\\site-packages (from hvplot) (1.20.3)\n",
      "Requirement already satisfied: tornado>=5.1 in c:\\users\\aaron simpson\\anaconda3\\lib\\site-packages (from bokeh>=1.0.0->hvplot) (6.1)\n",
      "Requirement already satisfied: Jinja2>=2.9 in c:\\users\\aaron simpson\\anaconda3\\lib\\site-packages (from bokeh>=1.0.0->hvplot) (2.11.3)\n",
      "Requirement already satisfied: pillow>=7.1.0 in c:\\users\\aaron simpson\\anaconda3\\lib\\site-packages (from bokeh>=1.0.0->hvplot) (9.0.1)\n",
      "Requirement already satisfied: packaging>=16.8 in c:\\users\\aaron simpson\\anaconda3\\lib\\site-packages (from bokeh>=1.0.0->hvplot) (21.3)\n",
      "Requirement already satisfied: PyYAML>=3.10 in c:\\users\\aaron simpson\\anaconda3\\lib\\site-packages (from bokeh>=1.0.0->hvplot) (6.0)\n",
      "Requirement already satisfied: typing-extensions>=3.10.0 in c:\\users\\aaron simpson\\anaconda3\\lib\\site-packages (from bokeh>=1.0.0->hvplot) (3.10.0.2)\n",
      "Requirement already satisfied: pyct>=0.4.4 in c:\\users\\aaron simpson\\anaconda3\\lib\\site-packages (from colorcet>=2->hvplot) (0.4.8)\n",
      "Requirement already satisfied: param>=1.7.0 in c:\\users\\aaron simpson\\anaconda3\\lib\\site-packages (from colorcet>=2->hvplot) (1.12.0)\n",
      "Requirement already satisfied: panel>=0.8.0 in c:\\users\\aaron simpson\\anaconda3\\lib\\site-packages (from holoviews>=1.11.0->hvplot) (0.12.7)\n",
      "Requirement already satisfied: pyviz-comms>=0.7.4 in c:\\users\\aaron simpson\\anaconda3\\lib\\site-packages (from holoviews>=1.11.0->hvplot) (2.1.0)\n",
      "Requirement already satisfied: python-dateutil>=2.8.1 in c:\\users\\aaron simpson\\anaconda3\\lib\\site-packages (from pandas->hvplot) (2.8.2)\n",
      "Requirement already satisfied: pytz>=2020.1 in c:\\users\\aaron simpson\\anaconda3\\lib\\site-packages (from pandas->hvplot) (2021.3)\n",
      "Requirement already satisfied: MarkupSafe>=0.23 in c:\\users\\aaron simpson\\anaconda3\\lib\\site-packages (from Jinja2>=2.9->bokeh>=1.0.0->hvplot) (1.1.1)\n",
      "Requirement already satisfied: pyparsing!=3.0.5,>=2.0.2 in c:\\users\\aaron simpson\\anaconda3\\lib\\site-packages (from packaging>=16.8->bokeh>=1.0.0->hvplot) (3.0.4)\n",
      "Requirement already satisfied: bleach in c:\\users\\aaron simpson\\anaconda3\\lib\\site-packages (from panel>=0.8.0->holoviews>=1.11.0->hvplot) (4.1.0)\n",
      "Requirement already satisfied: requests in c:\\users\\aaron simpson\\anaconda3\\lib\\site-packages (from panel>=0.8.0->holoviews>=1.11.0->hvplot) (2.27.1)\n",
      "Requirement already satisfied: setuptools<61,>=42 in c:\\users\\aaron simpson\\anaconda3\\lib\\site-packages (from panel>=0.8.0->holoviews>=1.11.0->hvplot) (60.9.3)\n",
      "Requirement already satisfied: markdown in c:\\users\\aaron simpson\\anaconda3\\lib\\site-packages (from panel>=0.8.0->holoviews>=1.11.0->hvplot) (3.3.6)\n",
      "Requirement already satisfied: tqdm>=4.48.0 in c:\\users\\aaron simpson\\anaconda3\\lib\\site-packages (from panel>=0.8.0->holoviews>=1.11.0->hvplot) (4.62.3)\n",
      "Requirement already satisfied: six>=1.5 in c:\\users\\aaron simpson\\anaconda3\\lib\\site-packages (from python-dateutil>=2.8.1->pandas->hvplot) (1.16.0)\n",
      "Requirement already satisfied: colorama in c:\\users\\aaron simpson\\anaconda3\\lib\\site-packages (from tqdm>=4.48.0->panel>=0.8.0->holoviews>=1.11.0->hvplot) (0.4.4)\n",
      "Requirement already satisfied: webencodings in c:\\users\\aaron simpson\\anaconda3\\lib\\site-packages (from bleach->panel>=0.8.0->holoviews>=1.11.0->hvplot) (0.5.1)\n",
      "Requirement already satisfied: importlib-metadata>=4.4 in c:\\users\\aaron simpson\\anaconda3\\lib\\site-packages (from markdown->panel>=0.8.0->holoviews>=1.11.0->hvplot) (4.8.2)\n",
      "Requirement already satisfied: certifi>=2017.4.17 in c:\\users\\aaron simpson\\anaconda3\\lib\\site-packages (from requests->panel>=0.8.0->holoviews>=1.11.0->hvplot) (2021.10.8)\n",
      "Requirement already satisfied: urllib3<1.27,>=1.21.1 in c:\\users\\aaron simpson\\anaconda3\\lib\\site-packages (from requests->panel>=0.8.0->holoviews>=1.11.0->hvplot) (1.26.8)\n",
      "Requirement already satisfied: idna<4,>=2.5 in c:\\users\\aaron simpson\\anaconda3\\lib\\site-packages (from requests->panel>=0.8.0->holoviews>=1.11.0->hvplot) (3.3)\n",
      "Requirement already satisfied: charset-normalizer~=2.0.0 in c:\\users\\aaron simpson\\anaconda3\\lib\\site-packages (from requests->panel>=0.8.0->holoviews>=1.11.0->hvplot) (2.0.4)\n",
      "Requirement already satisfied: zipp>=0.5 in c:\\users\\aaron simpson\\anaconda3\\lib\\site-packages (from importlib-metadata>=4.4->markdown->panel>=0.8.0->holoviews>=1.11.0->hvplot) (3.7.0)\n",
      "Note: you may need to restart the kernel to use updated packages.\n"
     ]
    }
   ],
   "source": [
    "import numpy as np\n",
    "import pandas as pd\n",
    "%pip install hvplot\n",
    "import hvplot.pandas"
   ]
  },
  {
   "cell_type": "code",
   "execution_count": 29,
   "metadata": {},
   "outputs": [],
   "source": [
    "# Set the random seed for reproducibility\n",
    "# Note: This is for the homework solution, but it is good practice to comment this out and run multiple experiments to evaluate your model\n",
    "from numpy.random import seed\n",
    "seed(1)\n",
    "from tensorflow import random\n",
    "random.set_seed(2)"
   ]
  },
  {
   "cell_type": "code",
   "execution_count": 30,
   "metadata": {},
   "outputs": [
    {
     "data": {
      "text/html": [
       "<div>\n",
       "<style scoped>\n",
       "    .dataframe tbody tr th:only-of-type {\n",
       "        vertical-align: middle;\n",
       "    }\n",
       "\n",
       "    .dataframe tbody tr th {\n",
       "        vertical-align: top;\n",
       "    }\n",
       "\n",
       "    .dataframe thead th {\n",
       "        text-align: right;\n",
       "    }\n",
       "</style>\n",
       "<table border=\"1\" class=\"dataframe\">\n",
       "  <thead>\n",
       "    <tr style=\"text-align: right;\">\n",
       "      <th></th>\n",
       "      <th>fng_value</th>\n",
       "    </tr>\n",
       "    <tr>\n",
       "      <th>date</th>\n",
       "      <th></th>\n",
       "    </tr>\n",
       "  </thead>\n",
       "  <tbody>\n",
       "    <tr>\n",
       "      <th>2019-07-29</th>\n",
       "      <td>19</td>\n",
       "    </tr>\n",
       "    <tr>\n",
       "      <th>2019-07-28</th>\n",
       "      <td>16</td>\n",
       "    </tr>\n",
       "    <tr>\n",
       "      <th>2019-07-27</th>\n",
       "      <td>47</td>\n",
       "    </tr>\n",
       "    <tr>\n",
       "      <th>2019-07-26</th>\n",
       "      <td>24</td>\n",
       "    </tr>\n",
       "    <tr>\n",
       "      <th>2019-07-25</th>\n",
       "      <td>42</td>\n",
       "    </tr>\n",
       "  </tbody>\n",
       "</table>\n",
       "</div>"
      ],
      "text/plain": [
       "             fng_value\n",
       "date                  \n",
       "2019-07-29          19\n",
       "2019-07-28          16\n",
       "2019-07-27          47\n",
       "2019-07-26          24\n",
       "2019-07-25          42"
      ]
     },
     "execution_count": 30,
     "metadata": {},
     "output_type": "execute_result"
    }
   ],
   "source": [
    "# Load the fear and greed sentiment data for Bitcoin\n",
    "df = pd.read_csv('btc_sentiment.csv', index_col=\"date\", infer_datetime_format=True, parse_dates=True)\n",
    "df = df.drop(columns=\"fng_classification\")\n",
    "df.head()"
   ]
  },
  {
   "cell_type": "code",
   "execution_count": 31,
   "metadata": {},
   "outputs": [
    {
     "data": {
      "text/plain": [
       "Date\n",
       "2019-07-25    9882.429688\n",
       "2019-07-26    9847.450195\n",
       "2019-07-27    9478.320313\n",
       "2019-07-28    9531.769531\n",
       "2019-07-29    9529.889648\n",
       "Name: Close, dtype: float64"
      ]
     },
     "execution_count": 31,
     "metadata": {},
     "output_type": "execute_result"
    }
   ],
   "source": [
    "# Load the historical closing prices for Bitcoin\n",
    "df2 = pd.read_csv('btc_historic.csv', index_col=\"Date\", infer_datetime_format=True, parse_dates=True)['Close']\n",
    "df2 = df2.sort_index()\n",
    "df2.tail()"
   ]
  },
  {
   "cell_type": "code",
   "execution_count": 32,
   "metadata": {},
   "outputs": [
    {
     "data": {
      "text/html": [
       "<div>\n",
       "<style scoped>\n",
       "    .dataframe tbody tr th:only-of-type {\n",
       "        vertical-align: middle;\n",
       "    }\n",
       "\n",
       "    .dataframe tbody tr th {\n",
       "        vertical-align: top;\n",
       "    }\n",
       "\n",
       "    .dataframe thead th {\n",
       "        text-align: right;\n",
       "    }\n",
       "</style>\n",
       "<table border=\"1\" class=\"dataframe\">\n",
       "  <thead>\n",
       "    <tr style=\"text-align: right;\">\n",
       "      <th></th>\n",
       "      <th>fng_value</th>\n",
       "      <th>Close</th>\n",
       "    </tr>\n",
       "  </thead>\n",
       "  <tbody>\n",
       "    <tr>\n",
       "      <th>2019-07-25</th>\n",
       "      <td>42</td>\n",
       "      <td>9882.429688</td>\n",
       "    </tr>\n",
       "    <tr>\n",
       "      <th>2019-07-26</th>\n",
       "      <td>24</td>\n",
       "      <td>9847.450195</td>\n",
       "    </tr>\n",
       "    <tr>\n",
       "      <th>2019-07-27</th>\n",
       "      <td>47</td>\n",
       "      <td>9478.320313</td>\n",
       "    </tr>\n",
       "    <tr>\n",
       "      <th>2019-07-28</th>\n",
       "      <td>16</td>\n",
       "      <td>9531.769531</td>\n",
       "    </tr>\n",
       "    <tr>\n",
       "      <th>2019-07-29</th>\n",
       "      <td>19</td>\n",
       "      <td>9529.889648</td>\n",
       "    </tr>\n",
       "  </tbody>\n",
       "</table>\n",
       "</div>"
      ],
      "text/plain": [
       "             fng_value        Close\n",
       "2019-07-25          42  9882.429688\n",
       "2019-07-26          24  9847.450195\n",
       "2019-07-27          47  9478.320313\n",
       "2019-07-28          16  9531.769531\n",
       "2019-07-29          19  9529.889648"
      ]
     },
     "execution_count": 32,
     "metadata": {},
     "output_type": "execute_result"
    }
   ],
   "source": [
    "# Join the data into a single DataFrame\n",
    "df = df.join(df2, how=\"inner\")\n",
    "df.tail()"
   ]
  },
  {
   "cell_type": "code",
   "execution_count": 33,
   "metadata": {},
   "outputs": [
    {
     "data": {
      "text/html": [
       "<div>\n",
       "<style scoped>\n",
       "    .dataframe tbody tr th:only-of-type {\n",
       "        vertical-align: middle;\n",
       "    }\n",
       "\n",
       "    .dataframe tbody tr th {\n",
       "        vertical-align: top;\n",
       "    }\n",
       "\n",
       "    .dataframe thead th {\n",
       "        text-align: right;\n",
       "    }\n",
       "</style>\n",
       "<table border=\"1\" class=\"dataframe\">\n",
       "  <thead>\n",
       "    <tr style=\"text-align: right;\">\n",
       "      <th></th>\n",
       "      <th>fng_value</th>\n",
       "      <th>Close</th>\n",
       "    </tr>\n",
       "  </thead>\n",
       "  <tbody>\n",
       "    <tr>\n",
       "      <th>2018-02-01</th>\n",
       "      <td>30</td>\n",
       "      <td>9114.719727</td>\n",
       "    </tr>\n",
       "    <tr>\n",
       "      <th>2018-02-02</th>\n",
       "      <td>15</td>\n",
       "      <td>8870.820313</td>\n",
       "    </tr>\n",
       "    <tr>\n",
       "      <th>2018-02-03</th>\n",
       "      <td>40</td>\n",
       "      <td>9251.269531</td>\n",
       "    </tr>\n",
       "    <tr>\n",
       "      <th>2018-02-04</th>\n",
       "      <td>24</td>\n",
       "      <td>8218.049805</td>\n",
       "    </tr>\n",
       "    <tr>\n",
       "      <th>2018-02-05</th>\n",
       "      <td>11</td>\n",
       "      <td>6937.080078</td>\n",
       "    </tr>\n",
       "  </tbody>\n",
       "</table>\n",
       "</div>"
      ],
      "text/plain": [
       "             fng_value        Close\n",
       "2018-02-01          30  9114.719727\n",
       "2018-02-02          15  8870.820313\n",
       "2018-02-03          40  9251.269531\n",
       "2018-02-04          24  8218.049805\n",
       "2018-02-05          11  6937.080078"
      ]
     },
     "execution_count": 33,
     "metadata": {},
     "output_type": "execute_result"
    }
   ],
   "source": [
    "df.head()"
   ]
  },
  {
   "cell_type": "code",
   "execution_count": 34,
   "metadata": {},
   "outputs": [],
   "source": [
    "# This function accepts the column number for the features (X) and the target (y)\n",
    "# It chunks the data up with a rolling window of Xt-n to predict Xt\n",
    "# It returns a numpy array of X any y\n",
    "def window_data(df, window, feature_col_number, target_col_number):\n",
    "    X = []\n",
    "    y = []\n",
    "    for i in range(len(df) - window - 1):\n",
    "        features = df.iloc[i:(i + window), feature_col_number]\n",
    "        target = df.iloc[(i + window), target_col_number]\n",
    "        X.append(features)\n",
    "        y.append(target)\n",
    "    return np.array(X), np.array(y).reshape(-1, 1)"
   ]
  },
  {
   "cell_type": "code",
   "execution_count": 35,
   "metadata": {},
   "outputs": [],
   "source": [
    "# Predict Closing Prices using a 10 day window of previous closing prices\n",
    "# Then, experiment with window sizes anywhere from 1 to 10 and see how the model performance changes\n",
    "window_size = 10\n",
    "\n",
    "# Column index 0 is the 'fng_value' column\n",
    "# Column index 1 is the `Close` column\n",
    "feature_column = 1\n",
    "target_column = 1\n",
    "X, y = window_data(df, window_size, feature_column, target_column)"
   ]
  },
  {
   "cell_type": "code",
   "execution_count": 36,
   "metadata": {},
   "outputs": [],
   "source": [
    "# Use 70% of the data for training and the remaineder for testing\n",
    "split = int(0.7 * len(X))\n",
    "\n",
    "X_train = X[: split]\n",
    "X_test = X[split:]\n",
    "\n",
    "y_train = y[: split]\n",
    "y_test = y[split:]"
   ]
  },
  {
   "cell_type": "code",
   "execution_count": 37,
   "metadata": {},
   "outputs": [],
   "source": [
    "from sklearn.preprocessing import MinMaxScaler\n",
    "# Use the MinMaxScaler to scale data between 0 and 1.\n",
    "\n",
    "# Create a MinMaxScaler object\n",
    "scaler = MinMaxScaler()\n",
    "\n",
    "# Fit the MinMaxScaler object with the training feature data X_train\n",
    "scaler.fit(X_train)\n",
    "\n",
    "# Scale the features training and testing sets\n",
    "X_train = scaler.transform(X_train)\n",
    "X_test = scaler.transform(X_test)\n",
    "\n",
    "# Fit the MinMaxScaler object with the training target data y_train\n",
    "scaler.fit(y_train)\n",
    "\n",
    "# Scale the target training and testing sets\n",
    "y_train = scaler.transform(y_train)\n",
    "y_test = scaler.transform(y_test)"
   ]
  },
  {
   "cell_type": "code",
   "execution_count": 38,
   "metadata": {},
   "outputs": [
    {
     "name": "stdout",
     "output_type": "stream",
     "text": [
      "X_train sample values:\n",
      "[[[0.7111066 ]\n",
      "  [0.68162134]\n",
      "  [0.72761425]\n",
      "  [0.60270722]\n",
      "  [0.44784942]\n",
      "  [0.54023074]\n",
      "  [0.52711046]\n",
      "  [0.60786209]\n",
      "  [0.66058747]\n",
      "  [0.64516902]]\n",
      "\n",
      " [[0.68162134]\n",
      "  [0.72761425]\n",
      "  [0.60270722]\n",
      "  [0.44784942]\n",
      "  [0.54023074]\n",
      "  [0.52711046]\n",
      "  [0.60786209]\n",
      "  [0.66058747]\n",
      "  [0.64516902]\n",
      "  [0.58657552]]\n",
      "\n",
      " [[0.72761425]\n",
      "  [0.60270722]\n",
      "  [0.44784942]\n",
      "  [0.54023074]\n",
      "  [0.52711046]\n",
      "  [0.60786209]\n",
      "  [0.66058747]\n",
      "  [0.64516902]\n",
      "  [0.58657552]\n",
      "  [0.68651129]]] \n",
      "\n",
      "X_test sample values:\n",
      "[[[0.05471891]\n",
      "  [0.04579717]\n",
      "  [0.04653096]\n",
      "  [0.0451359 ]\n",
      "  [0.0430626 ]\n",
      "  [0.04363925]\n",
      "  [0.04651042]\n",
      "  [0.05299984]\n",
      "  [0.05299984]\n",
      "  [0.08221318]]\n",
      "\n",
      " [[0.04579717]\n",
      "  [0.04653096]\n",
      "  [0.0451359 ]\n",
      "  [0.0430626 ]\n",
      "  [0.04363925]\n",
      "  [0.04651042]\n",
      "  [0.05299984]\n",
      "  [0.05299984]\n",
      "  [0.08221318]\n",
      "  [0.08362397]]\n",
      "\n",
      " [[0.04653096]\n",
      "  [0.0451359 ]\n",
      "  [0.0430626 ]\n",
      "  [0.04363925]\n",
      "  [0.04651042]\n",
      "  [0.05299984]\n",
      "  [0.05299984]\n",
      "  [0.08221318]\n",
      "  [0.08362397]\n",
      "  [0.08964557]]]\n"
     ]
    }
   ],
   "source": [
    "# Reshape the features for the model\n",
    "X_train = X_train.reshape((X_train.shape[0], X_train.shape[1], 1))\n",
    "X_test = X_test.reshape((X_test.shape[0], X_test.shape[1], 1))\n",
    "\n",
    "# Print some sample data after reshaping the datasets\n",
    "print (f\"X_train sample values:\\n{X_train[:3]} \\n\")\n",
    "print (f\"X_test sample values:\\n{X_test[:3]}\")"
   ]
  },
  {
   "cell_type": "markdown",
   "metadata": {},
   "source": [
    "---"
   ]
  },
  {
   "cell_type": "markdown",
   "metadata": {},
   "source": [
    "## Build and Train the LSTM RNN\n",
    "\n",
    "In this section, you will design a custom LSTM RNN and fit (train) it using the training data.\n",
    "\n",
    "You will need to:\n",
    "1. Define the model architecture\n",
    "2. Compile the model\n",
    "3. Fit the model to the training data\n",
    "\n",
    "### Hints:\n",
    "You will want to use the same model architecture and random seed for both notebooks. This is necessary to accurately compare the performance of the FNG model vs the closing price model. "
   ]
  },
  {
   "cell_type": "code",
   "execution_count": 39,
   "metadata": {},
   "outputs": [],
   "source": [
    "from tensorflow.keras.models import Sequential\n",
    "from tensorflow.keras.layers import LSTM, Dense, Dropout"
   ]
  },
  {
   "cell_type": "code",
   "execution_count": 40,
   "metadata": {},
   "outputs": [],
   "source": [
    "# Build the LSTM model. \n",
    "# The return sequences need to be set to True if you are adding additional LSTM layers, but \n",
    "# You don't have to do this for the final layer. \n",
    "# Note: The dropouts help prevent overfitting\n",
    "# Note: The input shape is the number of time steps and the number of indicators\n",
    "# Note: Batching inputs has a different input shape of Samples/TimeSteps/Features\n",
    "\n",
    "model = Sequential()\n",
    "\n",
    "# Initial model setup\n",
    "number_units = 30\n",
    "dropout_fraction = 0.2\n",
    "\n",
    "# Layer 1\n",
    "model.add(LSTM(\n",
    "    units=number_units,\n",
    "    return_sequences=True,\n",
    "    input_shape=(X_train.shape[1], 1))\n",
    "    )\n",
    "model.add(Dropout(dropout_fraction))\n",
    "\n",
    "# Layer 2\n",
    "model.add(LSTM(units=number_units, return_sequences=True))\n",
    "model.add(Dropout(dropout_fraction))\n",
    "\n",
    "# Layer 3\n",
    "model.add(LSTM(units=number_units))\n",
    "model.add(Dropout(dropout_fraction))\n",
    "\n",
    "# Output layer\n",
    "model.add(Dense(1))"
   ]
  },
  {
   "cell_type": "code",
   "execution_count": 41,
   "metadata": {},
   "outputs": [],
   "source": [
    "# Compile the model\n",
    "model.compile(optimizer=\"adam\", loss=\"mean_squared_error\")"
   ]
  },
  {
   "cell_type": "code",
   "execution_count": 42,
   "metadata": {},
   "outputs": [
    {
     "name": "stdout",
     "output_type": "stream",
     "text": [
      "Model: \"sequential_2\"\n",
      "_________________________________________________________________\n",
      " Layer (type)                Output Shape              Param #   \n",
      "=================================================================\n",
      " lstm_6 (LSTM)               (None, 10, 30)            3840      \n",
      "                                                                 \n",
      " dropout_6 (Dropout)         (None, 10, 30)            0         \n",
      "                                                                 \n",
      " lstm_7 (LSTM)               (None, 10, 30)            7320      \n",
      "                                                                 \n",
      " dropout_7 (Dropout)         (None, 10, 30)            0         \n",
      "                                                                 \n",
      " lstm_8 (LSTM)               (None, 30)                7320      \n",
      "                                                                 \n",
      " dropout_8 (Dropout)         (None, 30)                0         \n",
      "                                                                 \n",
      " dense_2 (Dense)             (None, 1)                 31        \n",
      "                                                                 \n",
      "=================================================================\n",
      "Total params: 18,511\n",
      "Trainable params: 18,511\n",
      "Non-trainable params: 0\n",
      "_________________________________________________________________\n"
     ]
    }
   ],
   "source": [
    "# Summarize the model\n",
    "model.summary()"
   ]
  },
  {
   "cell_type": "code",
   "execution_count": 43,
   "metadata": {},
   "outputs": [
    {
     "name": "stdout",
     "output_type": "stream",
     "text": [
      "Epoch 1/10\n",
      "5/5 [==============================] - 3s 8ms/step - loss: 0.2004\n",
      "Epoch 2/10\n",
      "5/5 [==============================] - 0s 7ms/step - loss: 0.1321\n",
      "Epoch 3/10\n",
      "5/5 [==============================] - 0s 7ms/step - loss: 0.0726\n",
      "Epoch 4/10\n",
      "5/5 [==============================] - 0s 7ms/step - loss: 0.0356\n",
      "Epoch 5/10\n",
      "5/5 [==============================] - 0s 6ms/step - loss: 0.0272\n",
      "Epoch 6/10\n",
      "5/5 [==============================] - 0s 7ms/step - loss: 0.0191\n",
      "Epoch 7/10\n",
      "5/5 [==============================] - 0s 7ms/step - loss: 0.0169\n",
      "Epoch 8/10\n",
      "5/5 [==============================] - 0s 7ms/step - loss: 0.0178\n",
      "Epoch 9/10\n",
      "5/5 [==============================] - 0s 7ms/step - loss: 0.0167\n",
      "Epoch 10/10\n",
      "5/5 [==============================] - 0s 7ms/step - loss: 0.0130\n"
     ]
    },
    {
     "data": {
      "text/plain": [
       "<keras.callbacks.History at 0x146a082e8e0>"
      ]
     },
     "execution_count": 43,
     "metadata": {},
     "output_type": "execute_result"
    }
   ],
   "source": [
    "# Train the model\n",
    "# Use at least 10 epochs\n",
    "# Do not shuffle the data\n",
    "# Experiement with the batch size, but a smaller batch size is recommended\n",
    "model.fit(X_train, y_train, epochs=10, shuffle=False, batch_size=90, verbose=1)"
   ]
  },
  {
   "cell_type": "markdown",
   "metadata": {},
   "source": [
    "---"
   ]
  },
  {
   "cell_type": "markdown",
   "metadata": {},
   "source": [
    "## Model Performance\n",
    "\n",
    "In this section, you will evaluate the model using the test data. \n",
    "\n",
    "You will need to:\n",
    "1. Evaluate the model using the `X_test` and `y_test` data.\n",
    "2. Use the X_test data to make predictions\n",
    "3. Create a DataFrame of Real (y_test) vs predicted values. \n",
    "4. Plot the Real vs predicted values as a line chart\n",
    "\n",
    "### Hints\n",
    "Remember to apply the `inverse_transform` function to the predicted and y_test values to recover the actual closing prices."
   ]
  },
  {
   "cell_type": "code",
   "execution_count": 44,
   "metadata": {},
   "outputs": [
    {
     "data": {
      "text/plain": [
       "0.010162285529077053"
      ]
     },
     "execution_count": 44,
     "metadata": {},
     "output_type": "execute_result"
    }
   ],
   "source": [
    "# Evaluate the model\n",
    "model.evaluate(X_test, y_test, verbose=0)"
   ]
  },
  {
   "cell_type": "code",
   "execution_count": 45,
   "metadata": {},
   "outputs": [],
   "source": [
    "# Make some predictions\n",
    "predicted = model.predict(X_test)"
   ]
  },
  {
   "cell_type": "code",
   "execution_count": 46,
   "metadata": {},
   "outputs": [],
   "source": [
    "# Recover the original prices instead of the scaled version\n",
    "predicted_prices = scaler.inverse_transform(predicted)\n",
    "real_prices = scaler.inverse_transform(y_test.reshape(-1, 1))"
   ]
  },
  {
   "cell_type": "code",
   "execution_count": 50,
   "metadata": {},
   "outputs": [
    {
     "data": {
      "text/html": [
       "<div>\n",
       "<style scoped>\n",
       "    .dataframe tbody tr th:only-of-type {\n",
       "        vertical-align: middle;\n",
       "    }\n",
       "\n",
       "    .dataframe tbody tr th {\n",
       "        vertical-align: top;\n",
       "    }\n",
       "\n",
       "    .dataframe thead th {\n",
       "        text-align: right;\n",
       "    }\n",
       "</style>\n",
       "<table border=\"1\" class=\"dataframe\">\n",
       "  <thead>\n",
       "    <tr style=\"text-align: right;\">\n",
       "      <th></th>\n",
       "      <th>Real</th>\n",
       "      <th>Predicted</th>\n",
       "    </tr>\n",
       "  </thead>\n",
       "  <tbody>\n",
       "    <tr>\n",
       "      <th>2019-02-20</th>\n",
       "      <td>3924.239990</td>\n",
       "      <td>4274.395020</td>\n",
       "    </tr>\n",
       "    <tr>\n",
       "      <th>2019-02-21</th>\n",
       "      <td>3974.050049</td>\n",
       "      <td>4275.317871</td>\n",
       "    </tr>\n",
       "    <tr>\n",
       "      <th>2019-02-22</th>\n",
       "      <td>3937.040039</td>\n",
       "      <td>4289.965820</td>\n",
       "    </tr>\n",
       "    <tr>\n",
       "      <th>2019-02-23</th>\n",
       "      <td>3983.530029</td>\n",
       "      <td>4309.575195</td>\n",
       "    </tr>\n",
       "    <tr>\n",
       "      <th>2019-02-24</th>\n",
       "      <td>4149.089844</td>\n",
       "      <td>4335.889160</td>\n",
       "    </tr>\n",
       "  </tbody>\n",
       "</table>\n",
       "</div>"
      ],
      "text/plain": [
       "                   Real    Predicted\n",
       "2019-02-20  3924.239990  4274.395020\n",
       "2019-02-21  3974.050049  4275.317871\n",
       "2019-02-22  3937.040039  4289.965820\n",
       "2019-02-23  3983.530029  4309.575195\n",
       "2019-02-24  4149.089844  4335.889160"
      ]
     },
     "execution_count": 50,
     "metadata": {},
     "output_type": "execute_result"
    }
   ],
   "source": [
    "# Create a DataFrame of Real and Predicted values\n",
    "btc = pd.DataFrame({\n",
    "    \"Real\": real_prices.ravel(),\n",
    "    \"Predicted\": predicted_prices.ravel()\n",
    "}, index = df.index[-len(real_prices): ]) \n",
    "btc.head()"
   ]
  },
  {
   "cell_type": "code",
   "execution_count": 51,
   "metadata": {},
   "outputs": [
    {
     "data": {
      "text/plain": [
       "<AxesSubplot:title={'center':'Actual Vs. Predicted BTC Prices'}>"
      ]
     },
     "execution_count": 51,
     "metadata": {},
     "output_type": "execute_result"
    },
    {
     "data": {
      "image/png": "[encoded data removed]",
      "text/plain": [
       "<Figure size 432x288 with 1 Axes>"
      ]
     },
     "metadata": {
      "needs_background": "light"
     },
     "output_type": "display_data"
    }
   ],
   "source": [
    "# Plot the real vs predicted values as a line chart\n",
    "btc.plot(title=\"Actual Vs. Predicted BTC Prices\")"
   ]
  },
  {
   "cell_type": "code",
   "execution_count": null,
   "metadata": {},
   "outputs": [],
   "source": []
  }
 ],
 "metadata": {
  "file_extension": ".py",
  "kernelspec": {
   "display_name": "Python 3 (ipykernel)",
   "language": "python",
   "name": "python3"
  },
  "language_info": {
   "codemirror_mode": {
    "name": "ipython",
    "version": 3
   },
   "file_extension": ".py",
   "mimetype": "text/x-python",
   "name": "python",
   "nbconvert_exporter": "python",
   "pygments_lexer": "ipython3",
   "version": "3.8.8"
  },
  "mimetype": "text/x-python",
  "name": "python",
  "npconvert_exporter": "python",
  "pygments_lexer": "ipython3",
  "version": 3
 },
 "nbformat": 4,
 "nbformat_minor": 4
}
